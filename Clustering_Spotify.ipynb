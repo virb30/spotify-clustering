{
  "nbformat": 4,
  "nbformat_minor": 0,
  "metadata": {
    "colab": {
      "name": "EDS - Aula 17 - Clustering.ipynb",
      "provenance": [],
      "collapsed_sections": [],
      "authorship_tag": "ABX9TyOvNpJe0dngLsmnHECzfBas",
      "include_colab_link": true
    },
    "kernelspec": {
      "name": "python3",
      "display_name": "Python 3"
    },
    "language_info": {
      "name": "python"
    }
  },
  "cells": [
    {
      "cell_type": "markdown",
      "metadata": {
        "id": "view-in-github",
        "colab_type": "text"
      },
      "source": [
        "<a href=\"https://colab.research.google.com/github/virb30/spotify-clustering/blob/main/Clustering_Spotify.ipynb\" target=\"_parent\"><img src=\"https://colab.research.google.com/assets/colab-badge.svg\" alt=\"Open In Colab\"/></a>"
      ]
    },
    {
      "cell_type": "markdown",
      "metadata": {
        "id": "BIKlajuuXle4"
      },
      "source": [
        "# Clustering a partir de Dados do Spotify\n",
        "\n",
        "O Spotify é o serviço mais popular de streaming de aúdio do mundo que visa unir produtores e consumidores de músicas e podcasts de maneira eficiente, em uma plataforma fácil e intuitiva. O Spotify conta hoje com 356 milhões de usuários, incluindo 158 milhões de assinantes, em 178 países.\n",
        "\n",
        "Como é de se imaginar, o Spotify gera uma grande quantidade de dados, e faz bom uso deles, principalmente em seus sistemas de recomendação.\n",
        "\n",
        "As principais *features* que se valem dos sistemas de recomendação que encontramos no Spotify são, entre outras:\n",
        "* Daily Mix\n",
        "* Discover Weeky\n",
        "* Song Radios\n",
        "* Your Year Wrapped\n",
        "\n",
        "Maiores detalhes sobre os sistemas de recomendação do Spotify podem ser vistos [nessa palestra](https://www.youtube.com/watch?v=2VvM98flwq0&t=677s).\n",
        "\n",
        "\n",
        "Nesse projeto iremos estudar uma das técnicas utilizadas nos sistemas de recomendação do Spotify e das principais empresas de entretenimento: o Clustering.\n"
      ]
    },
    {
      "cell_type": "markdown",
      "metadata": {
        "id": "Nv46sqsjYusj"
      },
      "source": [
        "## Clustering\n",
        "\n",
        "Clustering é uma técnica de *Machine Learning* pertencente à classe de Aprendizado Não-Supervisionado.\n",
        "\n",
        "<center><img src=\"https://ichi.pro/assets/images/max/724/0*MRsUA35nZDyDZwC0.jpg\" /></center>\n",
        "\n",
        "A técnica de Clustering consistem em agrupar conjuntos de dados semelhantes em um mesmo *Cluster*. O algoritmo mais utilizado para esse tipo de tarefa é o [K-Means](https://scikit-learn.org/stable/modules/generated/sklearn.cluster.KMeans.html). Esse algoritmo calcula a distância dos pontos até os *Centroids*, que ficarão no centro de cada *Cluster*."
      ]
    },
    {
      "cell_type": "markdown",
      "metadata": {
        "id": "yP3evLyRY_tY"
      },
      "source": [
        "## Como Saber quantos Clustar Usar?\n",
        "\n",
        "Nosso algoritmo não será capaz de definir quantos *clusters* utilizar. É tarefa do cientista de dados determinar esse número e informar, por parâmetro, ao algoritmo. Para obtermos essa quantidade podemos utilizar algumas técnicas:\n",
        "\n",
        "* Inspeção Visual dos Dados\n",
        "* Conhecimento prévio sobre os dados/objetivos e um número pré-definido de clusters.\n",
        "* Elbow Method, ou, em tradução livre, o \"Método do Cotovelo\". Esse método compara a distância média de cada ponto até o centro do cluster para diferentes números de clusters."
      ]
    },
    {
      "cell_type": "markdown",
      "metadata": {
        "id": "IYdL6MRyaSuF"
      },
      "source": [
        "## Informações sobre o K-Means\n",
        "\n",
        "O algoritmo K-Means utiliza a distância entre os pontos, portanto ele é muito sensível à escala dos dados. Por isso, antes de utilizá-lo, devemos tratar nossos dados para que fiquem em uma escala menor. Para isso podemos utilizar de duas ferramentas disponíveis na biblioteca `sklearn`:\n",
        "\n",
        "`StandardScaler` - transforma os dados de forma a obter média 0 e desvio padrão 1.\n",
        "\n",
        "`MinMaxScaler` - coloca todos os números numa escala entre 0 e 1.\n",
        "\n",
        "Naturalmente, isso irá trazer os pontos mais próximos uns dos outros. Essas técnicas também ajudam a reduzir o impacto de outliers em nossos dados.\n",
        "\n",
        "### K-Means e Clusters\n",
        "Ao iniciar a otimização os centroids são colocados aleatoriamente nos dados o que significa que a cada execução do algoritmo, podemos obter resultados diferentes, especialmente se não soubermos quantos clusters utilizar."
      ]
    },
    {
      "cell_type": "markdown",
      "metadata": {
        "id": "eqFRm8URb3RL"
      },
      "source": [
        "## Sistemas de Recomendação\n",
        "\n",
        "Antes de darmos início ao nosso projeto, precisamos entender quais os tipos de sistemas de recomendação, para então entendermos em qual deles nosso projeto se enquadra.\n",
        "\n",
        "* Collaborative Filtering - Comportamento de usuário.\n",
        "* Content-Based Filtering - Baseado nas informações dos produtos.\n",
        "* Hybrid Recommendation Systems - Combinação dos dois anteriores.\n",
        "\n",
        "Como iremos realizar o clustering a partir das características das músicasm nosso projeto seria um dos passos para a criação de um sistema de recomendação do tipo *Content-Based Filtering*.\n",
        "\n",
        "Vale lembrar que a maioria dos sistemas de recomendação (Amazon, Spotify, Netflix) é do tipo Híbrido"
      ]
    },
    {
      "cell_type": "markdown",
      "metadata": {
        "id": "eog431TMdOq7"
      },
      "source": [
        "## Os Dados\n",
        "\n",
        "Os dados utilizdos para esse projeto foram extraídos da API do spotify com parâmetro \"year:2020\" e conta com 977 músicas.\n",
        "\n",
        "As etapas de extração e remoção dos dados duplicados podem ser vistas nesse [link](https://github.com/virb30/spotify-clustering/)."
      ]
    },
    {
      "cell_type": "code",
      "metadata": {
        "id": "JLe7m_iqXg-j"
      },
      "source": [
        "# importando pacotes necessários\n",
        "import pandas as pd\n",
        "import numpy as np\n",
        "import matplotlib.pyplot as plt\n",
        "import seaborn as sns\n",
        "sns.set()\n",
        "\n",
        "from sklearn.preprocessing import MinMaxScaler\n",
        "from sklearn.cluster import KMeans\n",
        "from mpl_toolkits.mplot3d import Axes3D\n",
        "\n",
        "# allowing all the columns to be visualized\n",
        "pd.options.display.max_columns = None\n",
        "\n",
        "#rendering all graphics straight out of the notebook\n",
        "%matplotlib inline\n",
        "\n",
        "import warnings\n",
        "warnings.simplefilter(action='ignore', category=FutureWarning)"
      ],
      "execution_count": 58,
      "outputs": []
    },
    {
      "cell_type": "code",
      "metadata": {
        "colab": {
          "base_uri": "https://localhost:8080/",
          "height": 255
        },
        "id": "q6U9gp7Mf5DP",
        "outputId": "0d7932c3-c330-4474-d0c8-aeea76671e12"
      },
      "source": [
        "# importando dados\n",
        "df = pd.read_csv('https://raw.githubusercontent.com/virb30/spotify-clustering/main/spotify_data.csv')\n",
        "\n",
        "# visualizando dimensões do dataframe\n",
        "print('Dimensões do DataFrame',\n",
        "      f'\\nVariáveis: {df.shape[1]}',\n",
        "      f'\\nEntradas: {df.shape[0]}')\n",
        "\n",
        "# verificando primeiras entradas\n",
        "df.head()"
      ],
      "execution_count": 59,
      "outputs": [
        {
          "output_type": "stream",
          "text": [
            "Dimensões do DataFrame \n",
            "Variáveis: 18 \n",
            "Entradas: 978\n"
          ],
          "name": "stdout"
        },
        {
          "output_type": "execute_result",
          "data": {
            "text/html": [
              "<div>\n",
              "<style scoped>\n",
              "    .dataframe tbody tr th:only-of-type {\n",
              "        vertical-align: middle;\n",
              "    }\n",
              "\n",
              "    .dataframe tbody tr th {\n",
              "        vertical-align: top;\n",
              "    }\n",
              "\n",
              "    .dataframe thead th {\n",
              "        text-align: right;\n",
              "    }\n",
              "</style>\n",
              "<table border=\"1\" class=\"dataframe\">\n",
              "  <thead>\n",
              "    <tr style=\"text-align: right;\">\n",
              "      <th></th>\n",
              "      <th>Unnamed: 0</th>\n",
              "      <th>artist_name</th>\n",
              "      <th>track_name</th>\n",
              "      <th>track_id</th>\n",
              "      <th>popularity</th>\n",
              "      <th>danceability</th>\n",
              "      <th>energy</th>\n",
              "      <th>key</th>\n",
              "      <th>loudness</th>\n",
              "      <th>mode</th>\n",
              "      <th>speechiness</th>\n",
              "      <th>acousticness</th>\n",
              "      <th>instrumentalness</th>\n",
              "      <th>liveness</th>\n",
              "      <th>valence</th>\n",
              "      <th>tempo</th>\n",
              "      <th>duration_ms</th>\n",
              "      <th>time_signature</th>\n",
              "    </tr>\n",
              "  </thead>\n",
              "  <tbody>\n",
              "    <tr>\n",
              "      <th>0</th>\n",
              "      <td>0</td>\n",
              "      <td>Dua Lipa</td>\n",
              "      <td>Levitating (feat. DaBaby)</td>\n",
              "      <td>463CkQjx2Zk1yXoBuierM9</td>\n",
              "      <td>90</td>\n",
              "      <td>0.7020</td>\n",
              "      <td>0.825</td>\n",
              "      <td>6</td>\n",
              "      <td>-3.787</td>\n",
              "      <td>0</td>\n",
              "      <td>0.0601</td>\n",
              "      <td>0.00883</td>\n",
              "      <td>0.000000</td>\n",
              "      <td>0.0674</td>\n",
              "      <td>0.9150</td>\n",
              "      <td>102.977</td>\n",
              "      <td>203064</td>\n",
              "      <td>4</td>\n",
              "    </tr>\n",
              "    <tr>\n",
              "      <th>1</th>\n",
              "      <td>1</td>\n",
              "      <td>Hammock</td>\n",
              "      <td>Longest Year - 2020</td>\n",
              "      <td>51TAp7p7B3xboCl5HWmEkF</td>\n",
              "      <td>26</td>\n",
              "      <td>0.0692</td>\n",
              "      <td>0.285</td>\n",
              "      <td>2</td>\n",
              "      <td>-14.854</td>\n",
              "      <td>1</td>\n",
              "      <td>0.0482</td>\n",
              "      <td>0.70000</td>\n",
              "      <td>0.673000</td>\n",
              "      <td>0.1990</td>\n",
              "      <td>0.0312</td>\n",
              "      <td>78.572</td>\n",
              "      <td>533707</td>\n",
              "      <td>4</td>\n",
              "    </tr>\n",
              "    <tr>\n",
              "      <th>2</th>\n",
              "      <td>2</td>\n",
              "      <td>The Weeknd</td>\n",
              "      <td>Blinding Lights</td>\n",
              "      <td>0VjIjW4GlUZAMYd2vXMi3b</td>\n",
              "      <td>93</td>\n",
              "      <td>0.5140</td>\n",
              "      <td>0.730</td>\n",
              "      <td>1</td>\n",
              "      <td>-5.934</td>\n",
              "      <td>1</td>\n",
              "      <td>0.0598</td>\n",
              "      <td>0.00146</td>\n",
              "      <td>0.000095</td>\n",
              "      <td>0.0897</td>\n",
              "      <td>0.3340</td>\n",
              "      <td>171.005</td>\n",
              "      <td>200040</td>\n",
              "      <td>4</td>\n",
              "    </tr>\n",
              "    <tr>\n",
              "      <th>3</th>\n",
              "      <td>3</td>\n",
              "      <td>Tame Impala</td>\n",
              "      <td>Alter Ego - 2020 Mix</td>\n",
              "      <td>457sndKohlwTU6dW6amBMU</td>\n",
              "      <td>52</td>\n",
              "      <td>0.4080</td>\n",
              "      <td>0.903</td>\n",
              "      <td>0</td>\n",
              "      <td>-2.924</td>\n",
              "      <td>1</td>\n",
              "      <td>0.0561</td>\n",
              "      <td>0.00256</td>\n",
              "      <td>0.000821</td>\n",
              "      <td>0.1170</td>\n",
              "      <td>0.3680</td>\n",
              "      <td>128.942</td>\n",
              "      <td>289867</td>\n",
              "      <td>4</td>\n",
              "    </tr>\n",
              "    <tr>\n",
              "      <th>4</th>\n",
              "      <td>4</td>\n",
              "      <td>Kali Uchis</td>\n",
              "      <td>telepatía</td>\n",
              "      <td>6tDDoYIxWvMLTdKpjFkc1B</td>\n",
              "      <td>90</td>\n",
              "      <td>0.6530</td>\n",
              "      <td>0.524</td>\n",
              "      <td>11</td>\n",
              "      <td>-9.016</td>\n",
              "      <td>0</td>\n",
              "      <td>0.0502</td>\n",
              "      <td>0.11200</td>\n",
              "      <td>0.000000</td>\n",
              "      <td>0.2030</td>\n",
              "      <td>0.5530</td>\n",
              "      <td>83.970</td>\n",
              "      <td>160191</td>\n",
              "      <td>4</td>\n",
              "    </tr>\n",
              "  </tbody>\n",
              "</table>\n",
              "</div>"
            ],
            "text/plain": [
              "   Unnamed: 0  artist_name                 track_name                track_id  \\\n",
              "0           0     Dua Lipa  Levitating (feat. DaBaby)  463CkQjx2Zk1yXoBuierM9   \n",
              "1           1      Hammock        Longest Year - 2020  51TAp7p7B3xboCl5HWmEkF   \n",
              "2           2   The Weeknd            Blinding Lights  0VjIjW4GlUZAMYd2vXMi3b   \n",
              "3           3  Tame Impala       Alter Ego - 2020 Mix  457sndKohlwTU6dW6amBMU   \n",
              "4           4   Kali Uchis                  telepatía  6tDDoYIxWvMLTdKpjFkc1B   \n",
              "\n",
              "   popularity  danceability  energy  key  loudness  mode  speechiness  \\\n",
              "0          90        0.7020   0.825    6    -3.787     0       0.0601   \n",
              "1          26        0.0692   0.285    2   -14.854     1       0.0482   \n",
              "2          93        0.5140   0.730    1    -5.934     1       0.0598   \n",
              "3          52        0.4080   0.903    0    -2.924     1       0.0561   \n",
              "4          90        0.6530   0.524   11    -9.016     0       0.0502   \n",
              "\n",
              "   acousticness  instrumentalness  liveness  valence    tempo  duration_ms  \\\n",
              "0       0.00883          0.000000    0.0674   0.9150  102.977       203064   \n",
              "1       0.70000          0.673000    0.1990   0.0312   78.572       533707   \n",
              "2       0.00146          0.000095    0.0897   0.3340  171.005       200040   \n",
              "3       0.00256          0.000821    0.1170   0.3680  128.942       289867   \n",
              "4       0.11200          0.000000    0.2030   0.5530   83.970       160191   \n",
              "\n",
              "   time_signature  \n",
              "0               4  \n",
              "1               4  \n",
              "2               4  \n",
              "3               4  \n",
              "4               4  "
            ]
          },
          "metadata": {
            "tags": []
          },
          "execution_count": 59
        }
      ]
    },
    {
      "cell_type": "code",
      "metadata": {
        "colab": {
          "base_uri": "https://localhost:8080/",
          "height": 204
        },
        "id": "BBFQkuiqfKlD",
        "outputId": "4b458d3e-b4d6-4984-d312-743896926cdd"
      },
      "source": [
        "# remover coluna excedente\n",
        "df = df.drop(columns=['Unnamed: 0'], axis=1)\n",
        "# verificar primeiras entradas\n",
        "df.head()"
      ],
      "execution_count": 60,
      "outputs": [
        {
          "output_type": "execute_result",
          "data": {
            "text/html": [
              "<div>\n",
              "<style scoped>\n",
              "    .dataframe tbody tr th:only-of-type {\n",
              "        vertical-align: middle;\n",
              "    }\n",
              "\n",
              "    .dataframe tbody tr th {\n",
              "        vertical-align: top;\n",
              "    }\n",
              "\n",
              "    .dataframe thead th {\n",
              "        text-align: right;\n",
              "    }\n",
              "</style>\n",
              "<table border=\"1\" class=\"dataframe\">\n",
              "  <thead>\n",
              "    <tr style=\"text-align: right;\">\n",
              "      <th></th>\n",
              "      <th>artist_name</th>\n",
              "      <th>track_name</th>\n",
              "      <th>track_id</th>\n",
              "      <th>popularity</th>\n",
              "      <th>danceability</th>\n",
              "      <th>energy</th>\n",
              "      <th>key</th>\n",
              "      <th>loudness</th>\n",
              "      <th>mode</th>\n",
              "      <th>speechiness</th>\n",
              "      <th>acousticness</th>\n",
              "      <th>instrumentalness</th>\n",
              "      <th>liveness</th>\n",
              "      <th>valence</th>\n",
              "      <th>tempo</th>\n",
              "      <th>duration_ms</th>\n",
              "      <th>time_signature</th>\n",
              "    </tr>\n",
              "  </thead>\n",
              "  <tbody>\n",
              "    <tr>\n",
              "      <th>0</th>\n",
              "      <td>Dua Lipa</td>\n",
              "      <td>Levitating (feat. DaBaby)</td>\n",
              "      <td>463CkQjx2Zk1yXoBuierM9</td>\n",
              "      <td>90</td>\n",
              "      <td>0.7020</td>\n",
              "      <td>0.825</td>\n",
              "      <td>6</td>\n",
              "      <td>-3.787</td>\n",
              "      <td>0</td>\n",
              "      <td>0.0601</td>\n",
              "      <td>0.00883</td>\n",
              "      <td>0.000000</td>\n",
              "      <td>0.0674</td>\n",
              "      <td>0.9150</td>\n",
              "      <td>102.977</td>\n",
              "      <td>203064</td>\n",
              "      <td>4</td>\n",
              "    </tr>\n",
              "    <tr>\n",
              "      <th>1</th>\n",
              "      <td>Hammock</td>\n",
              "      <td>Longest Year - 2020</td>\n",
              "      <td>51TAp7p7B3xboCl5HWmEkF</td>\n",
              "      <td>26</td>\n",
              "      <td>0.0692</td>\n",
              "      <td>0.285</td>\n",
              "      <td>2</td>\n",
              "      <td>-14.854</td>\n",
              "      <td>1</td>\n",
              "      <td>0.0482</td>\n",
              "      <td>0.70000</td>\n",
              "      <td>0.673000</td>\n",
              "      <td>0.1990</td>\n",
              "      <td>0.0312</td>\n",
              "      <td>78.572</td>\n",
              "      <td>533707</td>\n",
              "      <td>4</td>\n",
              "    </tr>\n",
              "    <tr>\n",
              "      <th>2</th>\n",
              "      <td>The Weeknd</td>\n",
              "      <td>Blinding Lights</td>\n",
              "      <td>0VjIjW4GlUZAMYd2vXMi3b</td>\n",
              "      <td>93</td>\n",
              "      <td>0.5140</td>\n",
              "      <td>0.730</td>\n",
              "      <td>1</td>\n",
              "      <td>-5.934</td>\n",
              "      <td>1</td>\n",
              "      <td>0.0598</td>\n",
              "      <td>0.00146</td>\n",
              "      <td>0.000095</td>\n",
              "      <td>0.0897</td>\n",
              "      <td>0.3340</td>\n",
              "      <td>171.005</td>\n",
              "      <td>200040</td>\n",
              "      <td>4</td>\n",
              "    </tr>\n",
              "    <tr>\n",
              "      <th>3</th>\n",
              "      <td>Tame Impala</td>\n",
              "      <td>Alter Ego - 2020 Mix</td>\n",
              "      <td>457sndKohlwTU6dW6amBMU</td>\n",
              "      <td>52</td>\n",
              "      <td>0.4080</td>\n",
              "      <td>0.903</td>\n",
              "      <td>0</td>\n",
              "      <td>-2.924</td>\n",
              "      <td>1</td>\n",
              "      <td>0.0561</td>\n",
              "      <td>0.00256</td>\n",
              "      <td>0.000821</td>\n",
              "      <td>0.1170</td>\n",
              "      <td>0.3680</td>\n",
              "      <td>128.942</td>\n",
              "      <td>289867</td>\n",
              "      <td>4</td>\n",
              "    </tr>\n",
              "    <tr>\n",
              "      <th>4</th>\n",
              "      <td>Kali Uchis</td>\n",
              "      <td>telepatía</td>\n",
              "      <td>6tDDoYIxWvMLTdKpjFkc1B</td>\n",
              "      <td>90</td>\n",
              "      <td>0.6530</td>\n",
              "      <td>0.524</td>\n",
              "      <td>11</td>\n",
              "      <td>-9.016</td>\n",
              "      <td>0</td>\n",
              "      <td>0.0502</td>\n",
              "      <td>0.11200</td>\n",
              "      <td>0.000000</td>\n",
              "      <td>0.2030</td>\n",
              "      <td>0.5530</td>\n",
              "      <td>83.970</td>\n",
              "      <td>160191</td>\n",
              "      <td>4</td>\n",
              "    </tr>\n",
              "  </tbody>\n",
              "</table>\n",
              "</div>"
            ],
            "text/plain": [
              "   artist_name                 track_name                track_id  popularity  \\\n",
              "0     Dua Lipa  Levitating (feat. DaBaby)  463CkQjx2Zk1yXoBuierM9          90   \n",
              "1      Hammock        Longest Year - 2020  51TAp7p7B3xboCl5HWmEkF          26   \n",
              "2   The Weeknd            Blinding Lights  0VjIjW4GlUZAMYd2vXMi3b          93   \n",
              "3  Tame Impala       Alter Ego - 2020 Mix  457sndKohlwTU6dW6amBMU          52   \n",
              "4   Kali Uchis                  telepatía  6tDDoYIxWvMLTdKpjFkc1B          90   \n",
              "\n",
              "   danceability  energy  key  loudness  mode  speechiness  acousticness  \\\n",
              "0        0.7020   0.825    6    -3.787     0       0.0601       0.00883   \n",
              "1        0.0692   0.285    2   -14.854     1       0.0482       0.70000   \n",
              "2        0.5140   0.730    1    -5.934     1       0.0598       0.00146   \n",
              "3        0.4080   0.903    0    -2.924     1       0.0561       0.00256   \n",
              "4        0.6530   0.524   11    -9.016     0       0.0502       0.11200   \n",
              "\n",
              "   instrumentalness  liveness  valence    tempo  duration_ms  time_signature  \n",
              "0          0.000000    0.0674   0.9150  102.977       203064               4  \n",
              "1          0.673000    0.1990   0.0312   78.572       533707               4  \n",
              "2          0.000095    0.0897   0.3340  171.005       200040               4  \n",
              "3          0.000821    0.1170   0.3680  128.942       289867               4  \n",
              "4          0.000000    0.2030   0.5530   83.970       160191               4  "
            ]
          },
          "metadata": {
            "tags": []
          },
          "execution_count": 60
        }
      ]
    },
    {
      "cell_type": "code",
      "metadata": {
        "id": "1-myhhV0hCun"
      },
      "source": [
        "# lista de colunas que possuem features numéricas\n",
        "numeric_features = [x for x in range(3,16)]\n",
        "\n",
        "# selecionando features numericas\n",
        "df_num = pd.DataFrame(df.iloc[:, numeric_features].values)\n",
        "\n",
        "#salvando os nomes das colunas\n",
        "cols = df.iloc[:,numeric_features].columns"
      ],
      "execution_count": 61,
      "outputs": []
    },
    {
      "cell_type": "code",
      "metadata": {
        "colab": {
          "base_uri": "https://localhost:8080/",
          "height": 204
        },
        "id": "2uePNZgcjsy_",
        "outputId": "49a14384-0706-4fad-d40d-c057fdc17b1e"
      },
      "source": [
        "# colocando os dados na mesma escala\n",
        "scaler = MinMaxScaler()\n",
        "scaled = pd.DataFrame(scaler.fit_transform(df_num))\n",
        "scaled.columns = cols\n",
        "\n",
        "# visualizando dados na mesma escala\n",
        "scaled.head()"
      ],
      "execution_count": 62,
      "outputs": [
        {
          "output_type": "execute_result",
          "data": {
            "text/html": [
              "<div>\n",
              "<style scoped>\n",
              "    .dataframe tbody tr th:only-of-type {\n",
              "        vertical-align: middle;\n",
              "    }\n",
              "\n",
              "    .dataframe tbody tr th {\n",
              "        vertical-align: top;\n",
              "    }\n",
              "\n",
              "    .dataframe thead th {\n",
              "        text-align: right;\n",
              "    }\n",
              "</style>\n",
              "<table border=\"1\" class=\"dataframe\">\n",
              "  <thead>\n",
              "    <tr style=\"text-align: right;\">\n",
              "      <th></th>\n",
              "      <th>popularity</th>\n",
              "      <th>danceability</th>\n",
              "      <th>energy</th>\n",
              "      <th>key</th>\n",
              "      <th>loudness</th>\n",
              "      <th>mode</th>\n",
              "      <th>speechiness</th>\n",
              "      <th>acousticness</th>\n",
              "      <th>instrumentalness</th>\n",
              "      <th>liveness</th>\n",
              "      <th>valence</th>\n",
              "      <th>tempo</th>\n",
              "      <th>duration_ms</th>\n",
              "    </tr>\n",
              "  </thead>\n",
              "  <tbody>\n",
              "    <tr>\n",
              "      <th>0</th>\n",
              "      <td>0.967391</td>\n",
              "      <td>0.716327</td>\n",
              "      <td>0.823214</td>\n",
              "      <td>0.545455</td>\n",
              "      <td>0.847406</td>\n",
              "      <td>0.0</td>\n",
              "      <td>0.064416</td>\n",
              "      <td>0.008864</td>\n",
              "      <td>0.000000</td>\n",
              "      <td>0.049126</td>\n",
              "      <td>0.935583</td>\n",
              "      <td>0.514484</td>\n",
              "      <td>0.212004</td>\n",
              "    </tr>\n",
              "    <tr>\n",
              "      <th>1</th>\n",
              "      <td>0.271739</td>\n",
              "      <td>0.070612</td>\n",
              "      <td>0.277705</td>\n",
              "      <td>0.181818</td>\n",
              "      <td>0.498993</td>\n",
              "      <td>1.0</td>\n",
              "      <td>0.051661</td>\n",
              "      <td>0.702811</td>\n",
              "      <td>0.679798</td>\n",
              "      <td>0.186095</td>\n",
              "      <td>0.031902</td>\n",
              "      <td>0.392554</td>\n",
              "      <td>0.619586</td>\n",
              "    </tr>\n",
              "    <tr>\n",
              "      <th>2</th>\n",
              "      <td>1.000000</td>\n",
              "      <td>0.524490</td>\n",
              "      <td>0.727245</td>\n",
              "      <td>0.090909</td>\n",
              "      <td>0.779814</td>\n",
              "      <td>1.0</td>\n",
              "      <td>0.064094</td>\n",
              "      <td>0.001465</td>\n",
              "      <td>0.000096</td>\n",
              "      <td>0.072336</td>\n",
              "      <td>0.341513</td>\n",
              "      <td>0.854359</td>\n",
              "      <td>0.208276</td>\n",
              "    </tr>\n",
              "    <tr>\n",
              "      <th>3</th>\n",
              "      <td>0.554348</td>\n",
              "      <td>0.416327</td>\n",
              "      <td>0.902010</td>\n",
              "      <td>0.000000</td>\n",
              "      <td>0.874575</td>\n",
              "      <td>1.0</td>\n",
              "      <td>0.060129</td>\n",
              "      <td>0.002569</td>\n",
              "      <td>0.000829</td>\n",
              "      <td>0.100749</td>\n",
              "      <td>0.376278</td>\n",
              "      <td>0.644208</td>\n",
              "      <td>0.319005</td>\n",
              "    </tr>\n",
              "    <tr>\n",
              "      <th>4</th>\n",
              "      <td>0.967391</td>\n",
              "      <td>0.666327</td>\n",
              "      <td>0.519143</td>\n",
              "      <td>1.000000</td>\n",
              "      <td>0.682786</td>\n",
              "      <td>0.0</td>\n",
              "      <td>0.053805</td>\n",
              "      <td>0.112449</td>\n",
              "      <td>0.000000</td>\n",
              "      <td>0.190258</td>\n",
              "      <td>0.565440</td>\n",
              "      <td>0.419523</td>\n",
              "      <td>0.159154</td>\n",
              "    </tr>\n",
              "  </tbody>\n",
              "</table>\n",
              "</div>"
            ],
            "text/plain": [
              "   popularity  danceability    energy       key  loudness  mode  speechiness  \\\n",
              "0    0.967391      0.716327  0.823214  0.545455  0.847406   0.0     0.064416   \n",
              "1    0.271739      0.070612  0.277705  0.181818  0.498993   1.0     0.051661   \n",
              "2    1.000000      0.524490  0.727245  0.090909  0.779814   1.0     0.064094   \n",
              "3    0.554348      0.416327  0.902010  0.000000  0.874575   1.0     0.060129   \n",
              "4    0.967391      0.666327  0.519143  1.000000  0.682786   0.0     0.053805   \n",
              "\n",
              "   acousticness  instrumentalness  liveness   valence     tempo  duration_ms  \n",
              "0      0.008864          0.000000  0.049126  0.935583  0.514484     0.212004  \n",
              "1      0.702811          0.679798  0.186095  0.031902  0.392554     0.619586  \n",
              "2      0.001465          0.000096  0.072336  0.341513  0.854359     0.208276  \n",
              "3      0.002569          0.000829  0.100749  0.376278  0.644208     0.319005  \n",
              "4      0.112449          0.000000  0.190258  0.565440  0.419523     0.159154  "
            ]
          },
          "metadata": {
            "tags": []
          },
          "execution_count": 62
        }
      ]
    },
    {
      "cell_type": "markdown",
      "metadata": {
        "id": "4-QrHFCIfiJr"
      },
      "source": [
        "Nos passos anteriores realizamos alguns tratamentos nos nossos dados:\n",
        "1. Removemos as colunas sem informação relevante\n",
        "2. Extraímos as variáveis numéricas\n",
        "3. Aplicamos o algoritmo de escala `MinMaxScaler` a essas variáveis\n",
        "\n",
        "Em seguida iremos plotar o gráfico do Elbow Method para os dados originais utilizando de 1 a 14 clusters para identificarmos qual a melhor quantidade de Clusters para nosso cenário."
      ]
    },
    {
      "cell_type": "code",
      "metadata": {
        "colab": {
          "base_uri": "https://localhost:8080/",
          "height": 627
        },
        "id": "U6F67E-QkQGH",
        "outputId": "3c89ece1-e90b-4192-9a07-ddaa376674d2"
      },
      "source": [
        "# dados originais\n",
        "wcss = []\n",
        "for i in range(1,15):\n",
        "  # instanciando o modelo\n",
        "  kmeans = KMeans(n_clusters=i, init='k-means++', max_iter=300, n_init=10, random_state=0)\n",
        "  # dando fit nos dados\n",
        "  kmeans.fit(df_num)\n",
        "  # salvando resultados na lista\n",
        "  wcss.append(kmeans.inertia_)\n",
        "\n",
        "# plotando o elbow method\n",
        "plt.figure(figsize=(15,10))\n",
        "plt.plot(range(1,15), wcss, 'o')\n",
        "plt.plot(range(1,15), wcss, '-', alpha=0.5)\n",
        "plt.title('Elbow Method')\n",
        "plt.xlabel('Number of Clusters')\n",
        "plt.ylabel('WCSS')\n",
        "plt.savefig('Elbow_Method.png')\n",
        "plt.show()"
      ],
      "execution_count": 63,
      "outputs": [
        {
          "output_type": "display_data",
          "data": {
            "image/png": "[encoded data removed]",
            "text/plain": [
              "<Figure size 1080x720 with 1 Axes>"
            ]
          },
          "metadata": {
            "tags": [],
            "needs_background": "light"
          }
        }
      ]
    },
    {
      "cell_type": "markdown",
      "metadata": {
        "id": "-DxRGxU_gQbj"
      },
      "source": [
        "E faremos o mesmo procedimento para os dados normalizados."
      ]
    },
    {
      "cell_type": "code",
      "metadata": {
        "colab": {
          "base_uri": "https://localhost:8080/",
          "height": 627
        },
        "id": "5W-XQ7G1lmyv",
        "outputId": "6dd246fe-906e-4289-ae0d-748081cdbd20"
      },
      "source": [
        "# dados normalizados\n",
        "wcss = []\n",
        "for i in range(1,15):\n",
        "  # instanciando o modelo\n",
        "  kmeans = KMeans(n_clusters=i, init='k-means++', max_iter=300, n_init=10, random_state=0)\n",
        "  # dando fit nos dados\n",
        "  kmeans.fit(scaled)\n",
        "  # salvando resultados na lista\n",
        "  wcss.append(kmeans.inertia_)\n",
        "\n",
        "# plotando o elbow method\n",
        "plt.figure(figsize=(15,10))\n",
        "plt.plot(range(1,15), wcss, 'o')\n",
        "plt.plot(range(1,15), wcss, '-', alpha=0.5)\n",
        "plt.title('Elbow Method')\n",
        "plt.xlabel('Number of Clusters')\n",
        "plt.ylabel('WCSS')\n",
        "plt.savefig('Elbow_Method.png')\n",
        "plt.show()"
      ],
      "execution_count": 64,
      "outputs": [
        {
          "output_type": "display_data",
          "data": {
            "image/png": "[encoded data removed]",
            "text/plain": [
              "<Figure size 1080x720 with 1 Axes>"
            ]
          },
          "metadata": {
            "tags": [],
            "needs_background": "light"
          }
        }
      ]
    },
    {
      "cell_type": "code",
      "metadata": {
        "colab": {
          "base_uri": "https://localhost:8080/"
        },
        "id": "DZ0_QgRSl9sV",
        "outputId": "73302483-65aa-4f7a-aa6f-d224474e7c3b"
      },
      "source": [
        "# verificar os resultados\n",
        "print('Lista com Erros: ', wcss)"
      ],
      "execution_count": 65,
      "outputs": [
        {
          "output_type": "stream",
          "text": [
            "Lista com Erros:  [866.8849460078299, 622.445911400888, 525.8571138587399, 462.00601564421936, 412.13179592282006, 383.28628412481294, 355.8922450714775, 327.3706270484231, 313.748520605884, 300.14240702138767, 285.4246587257841, 276.67567051781623, 267.214754216345, 258.52536586563633]\n"
          ],
          "name": "stdout"
        }
      ]
    },
    {
      "cell_type": "code",
      "metadata": {
        "colab": {
          "base_uri": "https://localhost:8080/"
        },
        "id": "x3XSJiOzmJ5W",
        "outputId": "0a1d79f8-bcf2-4252-b579-9d0d8b64dd4d"
      },
      "source": [
        "# diferença entre os elementos\n",
        "dif = np.diff(wcss)\n",
        "print('Diferença Entre os Elements: ', dif)"
      ],
      "execution_count": 66,
      "outputs": [
        {
          "output_type": "stream",
          "text": [
            "Diferença Entre os Elements:  [-244.43903461  -96.58879754  -63.85109821  -49.87421972  -28.8455118\n",
            "  -27.39403905  -28.52161802  -13.62210644  -13.60611358  -14.7177483\n",
            "   -8.74898821   -9.4609163    -8.68938835]\n"
          ],
          "name": "stdout"
        }
      ]
    },
    {
      "cell_type": "markdown",
      "metadata": {
        "id": "us0eaKnTgwNr"
      },
      "source": [
        "Aparentemente 8 é um bom número de clusters.\n",
        "\n",
        "Agora iremos instanciar o modelo utilizando o número correto de clusters que definimos."
      ]
    },
    {
      "cell_type": "code",
      "metadata": {
        "id": "QAz3_7YBmU_t"
      },
      "source": [
        "# instanciando o modelo\n",
        "kmeans = KMeans(n_clusters=8, init='k-means++', max_iter=300, n_init=10, random_state=0)\n",
        "y_kmeans = kmeans.fit_predict(scaled)"
      ],
      "execution_count": 67,
      "outputs": []
    },
    {
      "cell_type": "markdown",
      "metadata": {
        "id": "Qj3qN_4QhH7U"
      },
      "source": [
        "Com a previsão realizada, podemos visualizar a distribuição em um gráfico"
      ]
    },
    {
      "cell_type": "code",
      "metadata": {
        "colab": {
          "base_uri": "https://localhost:8080/",
          "height": 652
        },
        "id": "a61ChnARm6n2",
        "outputId": "252556fd-a357-4612-a809-f3cbad79a492"
      },
      "source": [
        "# visualizando os clusters\n",
        "fig, ax = plt.subplots(figsize=(13,11))\n",
        "scaled = scaler.fit_transform(df_num)\n",
        "\n",
        "# definindo a figura em 3 dimensões\n",
        "ax = fig.add_subplot(111, projection='3d')\n",
        "\n",
        "# plotando os clusters\n",
        "plt.scatter(scaled[y_kmeans==0,0], scaled[y_kmeans==0,1], s=50, c='red', label='Cluster 1')\n",
        "plt.scatter(scaled[y_kmeans==1,0], scaled[y_kmeans==1,1], s=50, c='blue', label='Cluster 2')\n",
        "plt.scatter(scaled[y_kmeans==2,0], scaled[y_kmeans==2,1], s=50, c='green', label='Cluster 3')\n",
        "plt.scatter(scaled[y_kmeans==3,0], scaled[y_kmeans==3,1], s=50, c='cyan', label='Cluster 4')\n",
        "plt.scatter(scaled[y_kmeans==4,0], scaled[y_kmeans==4,1], s=50, c='magenta', label='Cluster 5')\n",
        "plt.scatter(scaled[y_kmeans==5,0], scaled[y_kmeans==5,1], s=50, c='gray', label='Cluster 6')\n",
        "\n",
        "# centroids\n",
        "plt.scatter(kmeans.cluster_centers_[:, 0], kmeans.cluster_centers_[:,1], s=300, c='yellow', label='Centroids')\n",
        "plt.title('Clusters')\n",
        "plt.legend()\n",
        "plt.savefig('custers.png')\n",
        "plt.show()"
      ],
      "execution_count": 68,
      "outputs": [
        {
          "output_type": "display_data",
          "data": {
            "image/png": "[encoded data removed]",
            "text/plain": [
              "<Figure size 936x792 with 2 Axes>"
            ]
          },
          "metadata": {
            "tags": [],
            "needs_background": "light"
          }
        }
      ]
    },
    {
      "cell_type": "markdown",
      "metadata": {
        "id": "WzkMQm1GhOmk"
      },
      "source": [
        "Também podemos obter as previsões, ou seja, em qual cluster a música foi classificada:"
      ]
    },
    {
      "cell_type": "code",
      "metadata": {
        "colab": {
          "base_uri": "https://localhost:8080/"
        },
        "id": "pL9BPX_BoMDO",
        "outputId": "2a8b2046-8635-4577-af9c-4fc63f78758c"
      },
      "source": [
        "## Visualizando as previsões\n",
        "y_kmeans"
      ],
      "execution_count": 69,
      "outputs": [
        {
          "output_type": "execute_result",
          "data": {
            "text/plain": [
              "array([0, 7, 2, 2, 0, 4, 0, 1, 0, 3, 4, 0, 7, 6, 6, 2, 3, 2, 2, 3, 0, 1,\n",
              "       6, 3, 0, 1, 2, 3, 2, 3, 0, 1, 2, 3, 6, 5, 2, 5, 2, 3, 6, 1, 2, 1,\n",
              "       6, 1, 0, 1, 0, 5, 6, 7, 2, 1, 0, 4, 2, 1, 2, 1, 0, 6, 0, 3, 6, 7,\n",
              "       0, 5, 0, 1, 0, 7, 5, 0, 7, 0, 7, 0, 4, 4, 6, 7, 6, 7, 0, 1, 2, 5,\n",
              "       1, 2, 3, 6, 5, 0, 4, 0, 4, 0, 4, 6, 4, 0, 4, 0, 4, 2, 5, 0, 4, 6,\n",
              "       1, 0, 3, 2, 4, 0, 5, 6, 3, 0, 1, 2, 4, 6, 5, 0, 3, 6, 4, 6, 3, 2,\n",
              "       4, 0, 5, 6, 4, 0, 5, 2, 5, 6, 4, 2, 4, 2, 1, 0, 4, 0, 5, 2, 3, 6,\n",
              "       5, 0, 7, 0, 3, 0, 1, 2, 6, 0, 4, 0, 4, 6, 1, 0, 4, 6, 1, 2, 3, 6,\n",
              "       3, 0, 1, 0, 3, 0, 5, 5, 4, 0, 3, 2, 5, 6, 1, 2, 4, 2, 3, 0, 3, 0,\n",
              "       5, 0, 1, 2, 1, 2, 4, 0, 1, 2, 3, 6, 1, 0, 4, 0, 5, 2, 4, 6, 1, 2,\n",
              "       3, 2, 4, 0, 3, 0, 4, 0, 4, 2, 1, 2, 4, 0, 1, 6, 5, 6, 5, 0, 1, 0,\n",
              "       4, 0, 5, 0, 4, 6, 3, 2, 1, 0, 7, 0, 5, 0, 1, 6, 7, 6, 5, 6, 7, 2,\n",
              "       3, 0, 3, 0, 3, 2, 4, 2, 5, 6, 5, 2, 3, 2, 5, 0, 5, 0, 5, 5, 3, 2,\n",
              "       1, 6, 7, 0, 3, 0, 4, 0, 3, 0, 5, 0, 4, 6, 5, 0, 5, 2, 4, 6, 5, 5,\n",
              "       0, 5, 6, 5, 0, 5, 0, 4, 6, 3, 0, 4, 0, 5, 6, 1, 2, 5, 2, 5, 6, 5,\n",
              "       6, 3, 0, 3, 6, 3, 0, 3, 2, 5, 6, 5, 2, 1, 2, 3, 2, 1, 6, 4, 0, 3,\n",
              "       2, 5, 0, 7, 0, 1, 6, 1, 0, 3, 6, 5, 6, 4, 6, 4, 2, 3, 2, 4, 2, 1,\n",
              "       2, 1, 6, 3, 0, 5, 6, 4, 6, 1, 6, 5, 2, 7, 0, 3, 0, 4, 2, 1, 2, 5,\n",
              "       0, 5, 2, 3, 0, 5, 2, 5, 6, 4, 6, 3, 0, 3, 0, 1, 2, 4, 0, 4, 0, 5,\n",
              "       0, 4, 6, 3, 0, 4, 0, 3, 2, 3, 2, 3, 6, 1, 0, 3, 6, 3, 2, 5, 6, 4,\n",
              "       2, 1, 0, 1, 6, 1, 6, 4, 0, 3, 6, 4, 2, 4, 6, 5, 0, 4, 6, 6, 2, 1,\n",
              "       6, 1, 0, 5, 0, 4, 0, 7, 0, 1, 0, 4, 0, 5, 0, 1, 2, 1, 6, 1, 6, 3,\n",
              "       2, 1, 6, 1, 6, 1, 2, 5, 6, 1, 0, 3, 2, 3, 0, 3, 6, 7, 6, 1, 0, 5,\n",
              "       0, 3, 6, 4, 0, 1, 1, 1, 0, 7, 6, 4, 6, 5, 6, 3, 6, 5, 2, 4, 2, 4,\n",
              "       0, 4, 2, 1, 2, 5, 0, 7, 2, 3, 6, 1, 0, 4, 6, 6, 7, 6, 7, 0, 5, 7,\n",
              "       0, 5, 0, 1, 0, 1, 0, 7, 0, 5, 6, 4, 6, 1, 6, 3, 0, 3, 0, 3, 0, 1,\n",
              "       7, 6, 3, 0, 1, 0, 1, 2, 1, 6, 4, 0, 1, 6, 4, 0, 5, 0, 7, 0, 7, 2,\n",
              "       7, 6, 7, 2, 4, 0, 1, 0, 3, 0, 6, 7, 7, 1, 0, 1, 2, 4, 0, 1, 0, 4,\n",
              "       2, 1, 2, 1, 0, 7, 6, 7, 2, 7, 0, 7, 5, 6, 4, 0, 3, 6, 3, 6, 1, 0,\n",
              "       5, 2, 1, 6, 1, 0, 3, 0, 1, 2, 3, 0, 4, 6, 3, 2, 1, 2, 1, 2, 1, 0,\n",
              "       1, 2, 3, 6, 4, 0, 1, 6, 1, 0, 1, 6, 4, 0, 1, 2, 5, 0, 1, 2, 1, 2,\n",
              "       1, 6, 3, 1, 0, 1, 7, 2, 1, 0, 1, 0, 5, 6, 1, 0, 4, 2, 1, 6, 1, 6,\n",
              "       4, 0, 4, 2, 1, 2, 1, 2, 1, 0, 5, 0, 5, 6, 5, 6, 7, 6, 7, 0, 7, 6,\n",
              "       7, 6, 7, 6, 4, 6, 5, 6, 7, 0, 7, 6, 7, 6, 7, 6, 5, 6, 5, 6, 7, 6,\n",
              "       1, 2, 4, 6, 1, 6, 5, 2, 7, 0, 3, 0, 6, 3, 0, 3, 1, 0, 6, 6, 3, 3,\n",
              "       6, 1, 1, 0, 1, 5, 6, 1, 6, 3, 6, 1, 6, 5, 2, 4, 6, 4, 0, 1, 0, 5,\n",
              "       6, 3, 6, 1, 2, 1, 0, 5, 6, 3, 2, 1, 1, 6, 7, 0, 1, 2, 1, 2, 3, 2,\n",
              "       4, 6, 3, 2, 7, 6, 3, 0, 3, 0, 4, 0, 3, 0, 4, 0, 3, 6, 5, 0, 1, 2,\n",
              "       4, 6, 3, 2, 3, 6, 7, 0, 4, 0, 3, 2, 1, 0, 3, 6, 1, 0, 5, 2, 3, 0,\n",
              "       1, 2, 3, 2, 1, 6, 7, 6, 7, 7, 2, 7, 2, 7, 2, 7, 0, 7, 6, 7, 0, 3,\n",
              "       0, 1, 6, 1, 0, 3, 0, 5, 0, 5, 0, 3, 0, 1, 2, 1, 0, 1, 2, 1, 0, 1,\n",
              "       0, 1, 0, 1, 0, 1, 2, 5, 6, 5, 2, 5, 0, 3, 0, 3, 6, 4, 0, 5, 0, 5,\n",
              "       2, 1, 2, 7, 2, 7, 0, 7, 0, 1, 2, 1, 0, 3, 0, 3, 0, 3, 0, 7, 6, 7,\n",
              "       6, 7, 0, 1, 2, 1, 0, 3, 6, 7, 6, 7, 6, 7, 6, 7, 6, 1, 0, 7, 2, 1,\n",
              "       2, 1, 6, 3, 0, 1, 2, 1, 2, 5], dtype=int32)"
            ]
          },
          "metadata": {
            "tags": []
          },
          "execution_count": 69
        }
      ]
    },
    {
      "cell_type": "markdown",
      "metadata": {
        "id": "6ASNb228hW-T"
      },
      "source": [
        "Convertemos para um DataFrame"
      ]
    },
    {
      "cell_type": "code",
      "metadata": {
        "colab": {
          "base_uri": "https://localhost:8080/",
          "height": 221
        },
        "id": "60u8la1iqEzG",
        "outputId": "5d10f7dc-09b7-4a1a-e1ff-73fbc167ed28"
      },
      "source": [
        "# convertendo as previsões para um dataframe\n",
        "kmeans = pd.DataFrame(data=y_kmeans, dtype=int)\n",
        "kmeans.columns = ['cluster']\n",
        "\n",
        "# previsões como um df\n",
        "print(kmeans.shape)\n",
        "kmeans.head()"
      ],
      "execution_count": 70,
      "outputs": [
        {
          "output_type": "stream",
          "text": [
            "(978, 1)\n"
          ],
          "name": "stdout"
        },
        {
          "output_type": "execute_result",
          "data": {
            "text/html": [
              "<div>\n",
              "<style scoped>\n",
              "    .dataframe tbody tr th:only-of-type {\n",
              "        vertical-align: middle;\n",
              "    }\n",
              "\n",
              "    .dataframe tbody tr th {\n",
              "        vertical-align: top;\n",
              "    }\n",
              "\n",
              "    .dataframe thead th {\n",
              "        text-align: right;\n",
              "    }\n",
              "</style>\n",
              "<table border=\"1\" class=\"dataframe\">\n",
              "  <thead>\n",
              "    <tr style=\"text-align: right;\">\n",
              "      <th></th>\n",
              "      <th>cluster</th>\n",
              "    </tr>\n",
              "  </thead>\n",
              "  <tbody>\n",
              "    <tr>\n",
              "      <th>0</th>\n",
              "      <td>0</td>\n",
              "    </tr>\n",
              "    <tr>\n",
              "      <th>1</th>\n",
              "      <td>7</td>\n",
              "    </tr>\n",
              "    <tr>\n",
              "      <th>2</th>\n",
              "      <td>2</td>\n",
              "    </tr>\n",
              "    <tr>\n",
              "      <th>3</th>\n",
              "      <td>2</td>\n",
              "    </tr>\n",
              "    <tr>\n",
              "      <th>4</th>\n",
              "      <td>0</td>\n",
              "    </tr>\n",
              "  </tbody>\n",
              "</table>\n",
              "</div>"
            ],
            "text/plain": [
              "   cluster\n",
              "0        0\n",
              "1        7\n",
              "2        2\n",
              "3        2\n",
              "4        0"
            ]
          },
          "metadata": {
            "tags": []
          },
          "execution_count": 70
        }
      ]
    },
    {
      "cell_type": "markdown",
      "metadata": {
        "id": "bp7HxL6ohZak"
      },
      "source": [
        "Concatenamos o dataframe dos clusters com o dataframe original, assim temos uma coluna extra que nos indica a qual cluster a música pertence."
      ]
    },
    {
      "cell_type": "code",
      "metadata": {
        "colab": {
          "base_uri": "https://localhost:8080/",
          "height": 221
        },
        "id": "GqNP-OCeqUJt",
        "outputId": "7964d44f-8de1-4dbc-94c9-6ea947cb58f9"
      },
      "source": [
        "# concatenando os clusters\n",
        "df = pd.concat([df, kmeans], axis=1)\n",
        "\n",
        "# conferindo os dataframes\n",
        "print(df.shape)\n",
        "df.head()"
      ],
      "execution_count": 71,
      "outputs": [
        {
          "output_type": "stream",
          "text": [
            "(978, 18)\n"
          ],
          "name": "stdout"
        },
        {
          "output_type": "execute_result",
          "data": {
            "text/html": [
              "<div>\n",
              "<style scoped>\n",
              "    .dataframe tbody tr th:only-of-type {\n",
              "        vertical-align: middle;\n",
              "    }\n",
              "\n",
              "    .dataframe tbody tr th {\n",
              "        vertical-align: top;\n",
              "    }\n",
              "\n",
              "    .dataframe thead th {\n",
              "        text-align: right;\n",
              "    }\n",
              "</style>\n",
              "<table border=\"1\" class=\"dataframe\">\n",
              "  <thead>\n",
              "    <tr style=\"text-align: right;\">\n",
              "      <th></th>\n",
              "      <th>artist_name</th>\n",
              "      <th>track_name</th>\n",
              "      <th>track_id</th>\n",
              "      <th>popularity</th>\n",
              "      <th>danceability</th>\n",
              "      <th>energy</th>\n",
              "      <th>key</th>\n",
              "      <th>loudness</th>\n",
              "      <th>mode</th>\n",
              "      <th>speechiness</th>\n",
              "      <th>acousticness</th>\n",
              "      <th>instrumentalness</th>\n",
              "      <th>liveness</th>\n",
              "      <th>valence</th>\n",
              "      <th>tempo</th>\n",
              "      <th>duration_ms</th>\n",
              "      <th>time_signature</th>\n",
              "      <th>cluster</th>\n",
              "    </tr>\n",
              "  </thead>\n",
              "  <tbody>\n",
              "    <tr>\n",
              "      <th>0</th>\n",
              "      <td>Dua Lipa</td>\n",
              "      <td>Levitating (feat. DaBaby)</td>\n",
              "      <td>463CkQjx2Zk1yXoBuierM9</td>\n",
              "      <td>90</td>\n",
              "      <td>0.7020</td>\n",
              "      <td>0.825</td>\n",
              "      <td>6</td>\n",
              "      <td>-3.787</td>\n",
              "      <td>0</td>\n",
              "      <td>0.0601</td>\n",
              "      <td>0.00883</td>\n",
              "      <td>0.000000</td>\n",
              "      <td>0.0674</td>\n",
              "      <td>0.9150</td>\n",
              "      <td>102.977</td>\n",
              "      <td>203064</td>\n",
              "      <td>4</td>\n",
              "      <td>0</td>\n",
              "    </tr>\n",
              "    <tr>\n",
              "      <th>1</th>\n",
              "      <td>Hammock</td>\n",
              "      <td>Longest Year - 2020</td>\n",
              "      <td>51TAp7p7B3xboCl5HWmEkF</td>\n",
              "      <td>26</td>\n",
              "      <td>0.0692</td>\n",
              "      <td>0.285</td>\n",
              "      <td>2</td>\n",
              "      <td>-14.854</td>\n",
              "      <td>1</td>\n",
              "      <td>0.0482</td>\n",
              "      <td>0.70000</td>\n",
              "      <td>0.673000</td>\n",
              "      <td>0.1990</td>\n",
              "      <td>0.0312</td>\n",
              "      <td>78.572</td>\n",
              "      <td>533707</td>\n",
              "      <td>4</td>\n",
              "      <td>7</td>\n",
              "    </tr>\n",
              "    <tr>\n",
              "      <th>2</th>\n",
              "      <td>The Weeknd</td>\n",
              "      <td>Blinding Lights</td>\n",
              "      <td>0VjIjW4GlUZAMYd2vXMi3b</td>\n",
              "      <td>93</td>\n",
              "      <td>0.5140</td>\n",
              "      <td>0.730</td>\n",
              "      <td>1</td>\n",
              "      <td>-5.934</td>\n",
              "      <td>1</td>\n",
              "      <td>0.0598</td>\n",
              "      <td>0.00146</td>\n",
              "      <td>0.000095</td>\n",
              "      <td>0.0897</td>\n",
              "      <td>0.3340</td>\n",
              "      <td>171.005</td>\n",
              "      <td>200040</td>\n",
              "      <td>4</td>\n",
              "      <td>2</td>\n",
              "    </tr>\n",
              "    <tr>\n",
              "      <th>3</th>\n",
              "      <td>Tame Impala</td>\n",
              "      <td>Alter Ego - 2020 Mix</td>\n",
              "      <td>457sndKohlwTU6dW6amBMU</td>\n",
              "      <td>52</td>\n",
              "      <td>0.4080</td>\n",
              "      <td>0.903</td>\n",
              "      <td>0</td>\n",
              "      <td>-2.924</td>\n",
              "      <td>1</td>\n",
              "      <td>0.0561</td>\n",
              "      <td>0.00256</td>\n",
              "      <td>0.000821</td>\n",
              "      <td>0.1170</td>\n",
              "      <td>0.3680</td>\n",
              "      <td>128.942</td>\n",
              "      <td>289867</td>\n",
              "      <td>4</td>\n",
              "      <td>2</td>\n",
              "    </tr>\n",
              "    <tr>\n",
              "      <th>4</th>\n",
              "      <td>Kali Uchis</td>\n",
              "      <td>telepatía</td>\n",
              "      <td>6tDDoYIxWvMLTdKpjFkc1B</td>\n",
              "      <td>90</td>\n",
              "      <td>0.6530</td>\n",
              "      <td>0.524</td>\n",
              "      <td>11</td>\n",
              "      <td>-9.016</td>\n",
              "      <td>0</td>\n",
              "      <td>0.0502</td>\n",
              "      <td>0.11200</td>\n",
              "      <td>0.000000</td>\n",
              "      <td>0.2030</td>\n",
              "      <td>0.5530</td>\n",
              "      <td>83.970</td>\n",
              "      <td>160191</td>\n",
              "      <td>4</td>\n",
              "      <td>0</td>\n",
              "    </tr>\n",
              "  </tbody>\n",
              "</table>\n",
              "</div>"
            ],
            "text/plain": [
              "   artist_name                 track_name                track_id  popularity  \\\n",
              "0     Dua Lipa  Levitating (feat. DaBaby)  463CkQjx2Zk1yXoBuierM9          90   \n",
              "1      Hammock        Longest Year - 2020  51TAp7p7B3xboCl5HWmEkF          26   \n",
              "2   The Weeknd            Blinding Lights  0VjIjW4GlUZAMYd2vXMi3b          93   \n",
              "3  Tame Impala       Alter Ego - 2020 Mix  457sndKohlwTU6dW6amBMU          52   \n",
              "4   Kali Uchis                  telepatía  6tDDoYIxWvMLTdKpjFkc1B          90   \n",
              "\n",
              "   danceability  energy  key  loudness  mode  speechiness  acousticness  \\\n",
              "0        0.7020   0.825    6    -3.787     0       0.0601       0.00883   \n",
              "1        0.0692   0.285    2   -14.854     1       0.0482       0.70000   \n",
              "2        0.5140   0.730    1    -5.934     1       0.0598       0.00146   \n",
              "3        0.4080   0.903    0    -2.924     1       0.0561       0.00256   \n",
              "4        0.6530   0.524   11    -9.016     0       0.0502       0.11200   \n",
              "\n",
              "   instrumentalness  liveness  valence    tempo  duration_ms  time_signature  \\\n",
              "0          0.000000    0.0674   0.9150  102.977       203064               4   \n",
              "1          0.673000    0.1990   0.0312   78.572       533707               4   \n",
              "2          0.000095    0.0897   0.3340  171.005       200040               4   \n",
              "3          0.000821    0.1170   0.3680  128.942       289867               4   \n",
              "4          0.000000    0.2030   0.5530   83.970       160191               4   \n",
              "\n",
              "   cluster  \n",
              "0        0  \n",
              "1        7  \n",
              "2        2  \n",
              "3        2  \n",
              "4        0  "
            ]
          },
          "metadata": {
            "tags": []
          },
          "execution_count": 71
        }
      ]
    },
    {
      "cell_type": "code",
      "metadata": {
        "colab": {
          "base_uri": "https://localhost:8080/"
        },
        "id": "Mhv0p6Usqduc",
        "outputId": "2ff7205b-908b-4aaa-fd62-90d0ecd79fac"
      },
      "source": [
        "# checando valores nulos\n",
        "(df.isnull().sum()/df.shape[0]).sort_values(ascending=True)"
      ],
      "execution_count": 72,
      "outputs": [
        {
          "output_type": "execute_result",
          "data": {
            "text/plain": [
              "artist_name         0.0\n",
              "duration_ms         0.0\n",
              "tempo               0.0\n",
              "valence             0.0\n",
              "liveness            0.0\n",
              "instrumentalness    0.0\n",
              "acousticness        0.0\n",
              "speechiness         0.0\n",
              "mode                0.0\n",
              "loudness            0.0\n",
              "key                 0.0\n",
              "energy              0.0\n",
              "danceability        0.0\n",
              "popularity          0.0\n",
              "track_id            0.0\n",
              "track_name          0.0\n",
              "time_signature      0.0\n",
              "cluster             0.0\n",
              "dtype: float64"
            ]
          },
          "metadata": {
            "tags": []
          },
          "execution_count": 72
        }
      ]
    },
    {
      "cell_type": "markdown",
      "metadata": {
        "id": "S0HyfY0khnYL"
      },
      "source": [
        "Agora podemos verificar várias estatísticas, tais como: média de popularidade por cluster, número de músicas por cluster e quais são as músicas do cluster."
      ]
    },
    {
      "cell_type": "code",
      "metadata": {
        "colab": {
          "base_uri": "https://localhost:8080/"
        },
        "id": "G_IG4qW8qk59",
        "outputId": "8ea74ff2-ed77-4d9b-bd54-3bab82e95235"
      },
      "source": [
        "# media de popularidade por cluster\n",
        "df.groupby(['cluster']).popularity.mean().sort_values(ascending=False)"
      ],
      "execution_count": 73,
      "outputs": [
        {
          "output_type": "execute_result",
          "data": {
            "text/plain": [
              "cluster\n",
              "0    76.206897\n",
              "2    75.162791\n",
              "6    72.954248\n",
              "5    20.076087\n",
              "4    19.586207\n",
              "3    18.203883\n",
              "1    15.838028\n",
              "7    13.333333\n",
              "Name: popularity, dtype: float64"
            ]
          },
          "metadata": {
            "tags": []
          },
          "execution_count": 73
        }
      ]
    },
    {
      "cell_type": "code",
      "metadata": {
        "colab": {
          "base_uri": "https://localhost:8080/"
        },
        "id": "6mBD3mwkq7et",
        "outputId": "690cea4d-032c-4dd2-fb0b-195c2f9c1b58"
      },
      "source": [
        "# conferindo o número de músicas por cluster\n",
        "df['cluster'].value_counts()"
      ],
      "execution_count": 74,
      "outputs": [
        {
          "output_type": "execute_result",
          "data": {
            "text/plain": [
              "0    203\n",
              "6    153\n",
              "1    142\n",
              "2    129\n",
              "3    103\n",
              "5     92\n",
              "4     87\n",
              "7     69\n",
              "Name: cluster, dtype: int64"
            ]
          },
          "metadata": {
            "tags": []
          },
          "execution_count": 74
        }
      ]
    },
    {
      "cell_type": "code",
      "metadata": {
        "colab": {
          "base_uri": "https://localhost:8080/",
          "height": 359
        },
        "id": "IVvSoGFfrBME",
        "outputId": "23dd412d-12c8-45fe-a357-dfecb0476986"
      },
      "source": [
        "# checando as músicas no cluster\n",
        "df.loc[df['cluster'] == 2][:10]"
      ],
      "execution_count": 75,
      "outputs": [
        {
          "output_type": "execute_result",
          "data": {
            "text/html": [
              "<div>\n",
              "<style scoped>\n",
              "    .dataframe tbody tr th:only-of-type {\n",
              "        vertical-align: middle;\n",
              "    }\n",
              "\n",
              "    .dataframe tbody tr th {\n",
              "        vertical-align: top;\n",
              "    }\n",
              "\n",
              "    .dataframe thead th {\n",
              "        text-align: right;\n",
              "    }\n",
              "</style>\n",
              "<table border=\"1\" class=\"dataframe\">\n",
              "  <thead>\n",
              "    <tr style=\"text-align: right;\">\n",
              "      <th></th>\n",
              "      <th>artist_name</th>\n",
              "      <th>track_name</th>\n",
              "      <th>track_id</th>\n",
              "      <th>popularity</th>\n",
              "      <th>danceability</th>\n",
              "      <th>energy</th>\n",
              "      <th>key</th>\n",
              "      <th>loudness</th>\n",
              "      <th>mode</th>\n",
              "      <th>speechiness</th>\n",
              "      <th>acousticness</th>\n",
              "      <th>instrumentalness</th>\n",
              "      <th>liveness</th>\n",
              "      <th>valence</th>\n",
              "      <th>tempo</th>\n",
              "      <th>duration_ms</th>\n",
              "      <th>time_signature</th>\n",
              "      <th>cluster</th>\n",
              "    </tr>\n",
              "  </thead>\n",
              "  <tbody>\n",
              "    <tr>\n",
              "      <th>2</th>\n",
              "      <td>The Weeknd</td>\n",
              "      <td>Blinding Lights</td>\n",
              "      <td>0VjIjW4GlUZAMYd2vXMi3b</td>\n",
              "      <td>93</td>\n",
              "      <td>0.514</td>\n",
              "      <td>0.730</td>\n",
              "      <td>1</td>\n",
              "      <td>-5.934</td>\n",
              "      <td>1</td>\n",
              "      <td>0.0598</td>\n",
              "      <td>0.00146</td>\n",
              "      <td>0.000095</td>\n",
              "      <td>0.0897</td>\n",
              "      <td>0.3340</td>\n",
              "      <td>171.005</td>\n",
              "      <td>200040</td>\n",
              "      <td>4</td>\n",
              "      <td>2</td>\n",
              "    </tr>\n",
              "    <tr>\n",
              "      <th>3</th>\n",
              "      <td>Tame Impala</td>\n",
              "      <td>Alter Ego - 2020 Mix</td>\n",
              "      <td>457sndKohlwTU6dW6amBMU</td>\n",
              "      <td>52</td>\n",
              "      <td>0.408</td>\n",
              "      <td>0.903</td>\n",
              "      <td>0</td>\n",
              "      <td>-2.924</td>\n",
              "      <td>1</td>\n",
              "      <td>0.0561</td>\n",
              "      <td>0.00256</td>\n",
              "      <td>0.000821</td>\n",
              "      <td>0.1170</td>\n",
              "      <td>0.3680</td>\n",
              "      <td>128.942</td>\n",
              "      <td>289867</td>\n",
              "      <td>4</td>\n",
              "      <td>2</td>\n",
              "    </tr>\n",
              "    <tr>\n",
              "      <th>15</th>\n",
              "      <td>Giveon</td>\n",
              "      <td>Heartbreak Anniversary</td>\n",
              "      <td>3FAJ6O0NOHQV8Mc5Ri6ENp</td>\n",
              "      <td>88</td>\n",
              "      <td>0.449</td>\n",
              "      <td>0.465</td>\n",
              "      <td>0</td>\n",
              "      <td>-8.964</td>\n",
              "      <td>1</td>\n",
              "      <td>0.0791</td>\n",
              "      <td>0.52400</td>\n",
              "      <td>0.000001</td>\n",
              "      <td>0.3030</td>\n",
              "      <td>0.5430</td>\n",
              "      <td>89.087</td>\n",
              "      <td>198371</td>\n",
              "      <td>3</td>\n",
              "      <td>2</td>\n",
              "    </tr>\n",
              "    <tr>\n",
              "      <th>17</th>\n",
              "      <td>Luke Combs</td>\n",
              "      <td>Forever After All</td>\n",
              "      <td>6IBcOGPsniK3Pso1wHIhew</td>\n",
              "      <td>82</td>\n",
              "      <td>0.487</td>\n",
              "      <td>0.650</td>\n",
              "      <td>0</td>\n",
              "      <td>-5.195</td>\n",
              "      <td>1</td>\n",
              "      <td>0.0253</td>\n",
              "      <td>0.19100</td>\n",
              "      <td>0.000000</td>\n",
              "      <td>0.0933</td>\n",
              "      <td>0.4560</td>\n",
              "      <td>151.964</td>\n",
              "      <td>232533</td>\n",
              "      <td>4</td>\n",
              "      <td>2</td>\n",
              "    </tr>\n",
              "    <tr>\n",
              "      <th>18</th>\n",
              "      <td>The Kid LAROI</td>\n",
              "      <td>WITHOUT YOU</td>\n",
              "      <td>27OeeYzk6klgBh83TSvGMA</td>\n",
              "      <td>88</td>\n",
              "      <td>0.662</td>\n",
              "      <td>0.413</td>\n",
              "      <td>0</td>\n",
              "      <td>-7.357</td>\n",
              "      <td>1</td>\n",
              "      <td>0.0299</td>\n",
              "      <td>0.21300</td>\n",
              "      <td>0.000000</td>\n",
              "      <td>0.1340</td>\n",
              "      <td>0.4670</td>\n",
              "      <td>93.005</td>\n",
              "      <td>161385</td>\n",
              "      <td>4</td>\n",
              "      <td>2</td>\n",
              "    </tr>\n",
              "    <tr>\n",
              "      <th>26</th>\n",
              "      <td>Drake</td>\n",
              "      <td>Laugh Now Cry Later (feat. Lil Durk)</td>\n",
              "      <td>2SAqBLGA283SUiwJ3xOUVI</td>\n",
              "      <td>84</td>\n",
              "      <td>0.761</td>\n",
              "      <td>0.518</td>\n",
              "      <td>0</td>\n",
              "      <td>-8.871</td>\n",
              "      <td>1</td>\n",
              "      <td>0.1340</td>\n",
              "      <td>0.24400</td>\n",
              "      <td>0.000035</td>\n",
              "      <td>0.1070</td>\n",
              "      <td>0.5220</td>\n",
              "      <td>133.976</td>\n",
              "      <td>261493</td>\n",
              "      <td>4</td>\n",
              "      <td>2</td>\n",
              "    </tr>\n",
              "    <tr>\n",
              "      <th>28</th>\n",
              "      <td>The Weeknd</td>\n",
              "      <td>Save Your Tears</td>\n",
              "      <td>5QO79kh1waicV47BqGRL3g</td>\n",
              "      <td>89</td>\n",
              "      <td>0.680</td>\n",
              "      <td>0.826</td>\n",
              "      <td>0</td>\n",
              "      <td>-5.487</td>\n",
              "      <td>1</td>\n",
              "      <td>0.0309</td>\n",
              "      <td>0.02120</td>\n",
              "      <td>0.000012</td>\n",
              "      <td>0.5430</td>\n",
              "      <td>0.6440</td>\n",
              "      <td>118.051</td>\n",
              "      <td>215627</td>\n",
              "      <td>4</td>\n",
              "      <td>2</td>\n",
              "    </tr>\n",
              "    <tr>\n",
              "      <th>32</th>\n",
              "      <td>Cardi B</td>\n",
              "      <td>WAP (feat. Megan Thee Stallion)</td>\n",
              "      <td>4Oun2ylbjFKMPTiaSbbCih</td>\n",
              "      <td>85</td>\n",
              "      <td>0.935</td>\n",
              "      <td>0.454</td>\n",
              "      <td>1</td>\n",
              "      <td>-7.509</td>\n",
              "      <td>1</td>\n",
              "      <td>0.3750</td>\n",
              "      <td>0.01940</td>\n",
              "      <td>0.000000</td>\n",
              "      <td>0.0824</td>\n",
              "      <td>0.3570</td>\n",
              "      <td>133.073</td>\n",
              "      <td>187541</td>\n",
              "      <td>4</td>\n",
              "      <td>2</td>\n",
              "    </tr>\n",
              "    <tr>\n",
              "      <th>36</th>\n",
              "      <td>Tate McRae</td>\n",
              "      <td>you broke me first</td>\n",
              "      <td>45bE4HXI0AwGZXfZtMp8JR</td>\n",
              "      <td>86</td>\n",
              "      <td>0.667</td>\n",
              "      <td>0.373</td>\n",
              "      <td>4</td>\n",
              "      <td>-9.389</td>\n",
              "      <td>1</td>\n",
              "      <td>0.0500</td>\n",
              "      <td>0.78500</td>\n",
              "      <td>0.000000</td>\n",
              "      <td>0.0906</td>\n",
              "      <td>0.0823</td>\n",
              "      <td>124.148</td>\n",
              "      <td>169266</td>\n",
              "      <td>4</td>\n",
              "      <td>2</td>\n",
              "    </tr>\n",
              "    <tr>\n",
              "      <th>38</th>\n",
              "      <td>Juice WRLD</td>\n",
              "      <td>Come &amp; Go (with Marshmello)</td>\n",
              "      <td>2Y0wPrPQBrGhoLn14xRYCG</td>\n",
              "      <td>83</td>\n",
              "      <td>0.625</td>\n",
              "      <td>0.814</td>\n",
              "      <td>0</td>\n",
              "      <td>-5.181</td>\n",
              "      <td>1</td>\n",
              "      <td>0.0657</td>\n",
              "      <td>0.01720</td>\n",
              "      <td>0.000000</td>\n",
              "      <td>0.1580</td>\n",
              "      <td>0.5350</td>\n",
              "      <td>144.991</td>\n",
              "      <td>205485</td>\n",
              "      <td>4</td>\n",
              "      <td>2</td>\n",
              "    </tr>\n",
              "  </tbody>\n",
              "</table>\n",
              "</div>"
            ],
            "text/plain": [
              "      artist_name                            track_name  \\\n",
              "2      The Weeknd                       Blinding Lights   \n",
              "3     Tame Impala                  Alter Ego - 2020 Mix   \n",
              "15         Giveon                Heartbreak Anniversary   \n",
              "17     Luke Combs                     Forever After All   \n",
              "18  The Kid LAROI                           WITHOUT YOU   \n",
              "26          Drake  Laugh Now Cry Later (feat. Lil Durk)   \n",
              "28     The Weeknd                       Save Your Tears   \n",
              "32        Cardi B       WAP (feat. Megan Thee Stallion)   \n",
              "36     Tate McRae                    you broke me first   \n",
              "38     Juice WRLD           Come & Go (with Marshmello)   \n",
              "\n",
              "                  track_id  popularity  danceability  energy  key  loudness  \\\n",
              "2   0VjIjW4GlUZAMYd2vXMi3b          93         0.514   0.730    1    -5.934   \n",
              "3   457sndKohlwTU6dW6amBMU          52         0.408   0.903    0    -2.924   \n",
              "15  3FAJ6O0NOHQV8Mc5Ri6ENp          88         0.449   0.465    0    -8.964   \n",
              "17  6IBcOGPsniK3Pso1wHIhew          82         0.487   0.650    0    -5.195   \n",
              "18  27OeeYzk6klgBh83TSvGMA          88         0.662   0.413    0    -7.357   \n",
              "26  2SAqBLGA283SUiwJ3xOUVI          84         0.761   0.518    0    -8.871   \n",
              "28  5QO79kh1waicV47BqGRL3g          89         0.680   0.826    0    -5.487   \n",
              "32  4Oun2ylbjFKMPTiaSbbCih          85         0.935   0.454    1    -7.509   \n",
              "36  45bE4HXI0AwGZXfZtMp8JR          86         0.667   0.373    4    -9.389   \n",
              "38  2Y0wPrPQBrGhoLn14xRYCG          83         0.625   0.814    0    -5.181   \n",
              "\n",
              "    mode  speechiness  acousticness  instrumentalness  liveness  valence  \\\n",
              "2      1       0.0598       0.00146          0.000095    0.0897   0.3340   \n",
              "3      1       0.0561       0.00256          0.000821    0.1170   0.3680   \n",
              "15     1       0.0791       0.52400          0.000001    0.3030   0.5430   \n",
              "17     1       0.0253       0.19100          0.000000    0.0933   0.4560   \n",
              "18     1       0.0299       0.21300          0.000000    0.1340   0.4670   \n",
              "26     1       0.1340       0.24400          0.000035    0.1070   0.5220   \n",
              "28     1       0.0309       0.02120          0.000012    0.5430   0.6440   \n",
              "32     1       0.3750       0.01940          0.000000    0.0824   0.3570   \n",
              "36     1       0.0500       0.78500          0.000000    0.0906   0.0823   \n",
              "38     1       0.0657       0.01720          0.000000    0.1580   0.5350   \n",
              "\n",
              "      tempo  duration_ms  time_signature  cluster  \n",
              "2   171.005       200040               4        2  \n",
              "3   128.942       289867               4        2  \n",
              "15   89.087       198371               3        2  \n",
              "17  151.964       232533               4        2  \n",
              "18   93.005       161385               4        2  \n",
              "26  133.976       261493               4        2  \n",
              "28  118.051       215627               4        2  \n",
              "32  133.073       187541               4        2  \n",
              "36  124.148       169266               4        2  \n",
              "38  144.991       205485               4        2  "
            ]
          },
          "metadata": {
            "tags": []
          },
          "execution_count": 75
        }
      ]
    },
    {
      "cell_type": "markdown",
      "metadata": {
        "id": "mvsB7vmFiDFz"
      },
      "source": [
        "# Conclusão\n",
        "\n",
        "Com esse projeto conseguimos aplicar a técnica de Clustering utilizando o K-Means. \n",
        "\n",
        "Para melhorar a pricesão do nosso algoritmo (caso fossemos aplicá-lo em um sistema de recomendação real), poderiamos realizar mais tratamentos nos dados visando remover outliers ou desconsiderar alguma variável irrelevante para nossa análise porém que pode prejudicar a precisão do algoritmo, por exemplo."
      ]
    },
    {
      "cell_type": "code",
      "metadata": {
        "id": "iohwpDntjxJM"
      },
      "source": [
        ""
      ],
      "execution_count": null,
      "outputs": []
    }
  ]
}